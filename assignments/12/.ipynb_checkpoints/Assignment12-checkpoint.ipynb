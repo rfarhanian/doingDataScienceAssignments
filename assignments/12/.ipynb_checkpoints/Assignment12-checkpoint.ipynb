{
 "cells": [
  {
   "cell_type": "code",
   "execution_count": null,
   "metadata": {
    "collapsed": true
   },
   "outputs": [],
   "source": [
    "my_list = [45.4, 44.2, 36.8, 35.1, 39.0, 60.0, 47.4, 41.1, 45.8 , 35.6]\n",
    "\n",
    "print my_list\n",
    "\n",
    "print my_list[4]\n",
    "\n",
    "my_list.append(55.2)\n",
    "\n",
    "print my_list\n",
    "\n",
    "del my_list[5]\n",
    "\n",
    "print my_list\n",
    "\n",
    "new_list = filter(lambda item: item>45, my_list)\n",
    "\n",
    "print new_list\n",
    "\n",
    "import numpy as np\n",
    "\n",
    "result =np.array([45.4,44.2,36.8,35.1,39.0,60.0,47.4,41.1,45.8 ,35.6])\n",
    "\n",
    "print result\n",
    "\n",
    "print \"Mean: %s\" % np.mean(result)\n",
    "\n",
    "print \"Standard Deviation: %s\" % np.std(result)\n",
    "\n",
    "print \"Max: %s\" % np.max(result)\n",
    "\n",
    "print \"Min: %s\" % np.min(result)\n",
    "\n",
    "\n",
    "# Part 3\n",
    "\n",
    "import pandas as pd\n",
    "\n",
    "iris = pd.read_csv(\"iris.csv\")\n",
    "\n",
    "print \"Iris Head:\\n %s\" % iris.head()\n",
    "\n",
    "df = pd.DataFrame(iris)\n",
    "result = df.drop('Id', axis=1)\n",
    "\n",
    "print \"\\nDataframe without Id:\\n %s\" % result\n",
    "\n",
    "print \"\\nIris setosa :\\n \"\n",
    "f = result[result.Species == 'Iris-setosa'].drop('Species', axis=1)\n",
    "print f.describe()\n",
    "\n",
    "groupedBySpecies = iris.groupby(by='Species')\n",
    "\n",
    "print \"\\nGrouped by Species:\\n %s\" % groupedBySpecies.describe()\n",
    "\n",
    "result.boxplot()\n",
    "\n",
    "import seaborn as sns\n",
    "sns.pairplot(result, hue='Species')\n",
    "\n",
    "\n",
    "import matplotlib.pyplot as plt\n",
    "plt.show()\n",
    "\n"
   ]
  }
 ],
 "metadata": {
  "anaconda-cloud": {},
  "kernelspec": {
   "display_name": "Python [conda env:python2]",
   "language": "python",
   "name": "conda-env-python2-py"
  },
  "language_info": {
   "codemirror_mode": {
    "name": "ipython",
    "version": 2
   },
   "file_extension": ".py",
   "mimetype": "text/x-python",
   "name": "python",
   "nbconvert_exporter": "python",
   "pygments_lexer": "ipython2",
   "version": "2.7.13"
  }
 },
 "nbformat": 4,
 "nbformat_minor": 0
}
